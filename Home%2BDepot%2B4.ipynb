{
 "cells": [
  {
   "cell_type": "code",
   "execution_count": 1,
   "metadata": {},
   "outputs": [
    {
     "name": "stderr",
     "output_type": "stream",
     "text": [
      "C:\\Users\\Karthik\\Anaconda3\\lib\\site-packages\\sklearn\\cross_validation.py:41: DeprecationWarning: This module was deprecated in version 0.18 in favor of the model_selection module into which all the refactored classes and functions are moved. Also note that the interface of the new CV iterators are different from that of this module. This module will be removed in 0.20.\n",
      "  \"This module will be removed in 0.20.\", DeprecationWarning)\n",
      "C:\\Users\\Karthik\\Anaconda3\\lib\\site-packages\\sklearn\\grid_search.py:42: DeprecationWarning: This module was deprecated in version 0.18 in favor of the model_selection module into which all the refactored classes and functions are moved. This module will be removed in 0.20.\n",
      "  DeprecationWarning)\n"
     ]
    }
   ],
   "source": [
    "import numpy as np \n",
    "import pandas as pd\n",
    "import time\n",
    "start_time = time.time()\n",
    "\n",
    "import numpy as np\n",
    "import pandas as pd\n",
    "from sklearn.ensemble import GradientBoostingRegressor\n",
    "from sklearn import pipeline, grid_search\n",
    "from sklearn.base import BaseEstimator, TransformerMixin\n",
    "from sklearn.pipeline import FeatureUnion\n",
    "from sklearn.decomposition import TruncatedSVD\n",
    "from sklearn.feature_extraction.text import TfidfVectorizer\n",
    "from sklearn.metrics import mean_squared_error, make_scorer\n",
    "from nltk.stem.porter import *\n",
    "stemmer = PorterStemmer()\n",
    "import re\n",
    "import random\n",
    "from collections import Counter"
   ]
  },
  {
   "cell_type": "code",
   "execution_count": 2,
   "metadata": {
    "collapsed": true
   },
   "outputs": [],
   "source": [
    "from sklearn.metrics import mean_squared_error, make_scorer"
   ]
  },
  {
   "cell_type": "code",
   "execution_count": 4,
   "metadata": {
    "collapsed": true
   },
   "outputs": [],
   "source": [
    "\n",
    "random.seed(2016)\n",
    "df_train = pd.read_csv('C:/Users/Karthik/Desktop/Coursera/NLP/home depot/train.csv', encoding=\"ISO-8859-1\")\n",
    "df_test = pd.read_csv('C:/Users/Karthik/Desktop/Coursera/NLP/home depot/test.csv', encoding=\"ISO-8859-1\")\n",
    "df_attr = pd.read_csv('C:/Users/Karthik/Desktop/Coursera/NLP/home depot/attributes.csv')\n",
    "df_pro_desc = pd.read_csv('C:/Users/Karthik/Desktop/Coursera/NLP/home depot/product_descriptions.csv')"
   ]
  },
  {
   "cell_type": "code",
   "execution_count": 8,
   "metadata": {},
   "outputs": [
    {
     "data": {
      "text/plain": [
       "(74067, 5)"
      ]
     },
     "execution_count": 8,
     "metadata": {},
     "output_type": "execute_result"
    }
   ],
   "source": [
    "df_train.shape"
   ]
  },
  {
   "cell_type": "code",
   "execution_count": 7,
   "metadata": {},
   "outputs": [
    {
     "data": {
      "text/plain": [
       "(166693, 4)"
      ]
     },
     "execution_count": 7,
     "metadata": {},
     "output_type": "execute_result"
    }
   ],
   "source": [
    "df_test.shape"
   ]
  },
  {
   "cell_type": "code",
   "execution_count": 6,
   "metadata": {
    "collapsed": true
   },
   "outputs": [],
   "source": [
    "df_brand = df_attr[df_attr.name == \"MFG Brand Name\"][[\"product_uid\", \"value\"]].rename(columns={\"value\": \"brand\"})"
   ]
  },
  {
   "cell_type": "code",
   "execution_count": 7,
   "metadata": {},
   "outputs": [
    {
     "data": {
      "text/html": [
       "<div>\n",
       "<style>\n",
       "    .dataframe thead tr:only-child th {\n",
       "        text-align: right;\n",
       "    }\n",
       "\n",
       "    .dataframe thead th {\n",
       "        text-align: left;\n",
       "    }\n",
       "\n",
       "    .dataframe tbody tr th {\n",
       "        vertical-align: top;\n",
       "    }\n",
       "</style>\n",
       "<table border=\"1\" class=\"dataframe\">\n",
       "  <thead>\n",
       "    <tr style=\"text-align: right;\">\n",
       "      <th></th>\n",
       "      <th>id</th>\n",
       "      <th>product_title</th>\n",
       "      <th>product_uid</th>\n",
       "      <th>relevance</th>\n",
       "      <th>search_term</th>\n",
       "      <th>product_description</th>\n",
       "      <th>brand</th>\n",
       "    </tr>\n",
       "  </thead>\n",
       "  <tbody>\n",
       "    <tr>\n",
       "      <th>0</th>\n",
       "      <td>2</td>\n",
       "      <td>Simpson Strong-Tie 12-Gauge Angle</td>\n",
       "      <td>100001</td>\n",
       "      <td>3.00</td>\n",
       "      <td>angle bracket</td>\n",
       "      <td>Not only do angles make joints stronger, they ...</td>\n",
       "      <td>Simpson Strong-Tie</td>\n",
       "    </tr>\n",
       "    <tr>\n",
       "      <th>1</th>\n",
       "      <td>3</td>\n",
       "      <td>Simpson Strong-Tie 12-Gauge Angle</td>\n",
       "      <td>100001</td>\n",
       "      <td>2.50</td>\n",
       "      <td>l bracket</td>\n",
       "      <td>Not only do angles make joints stronger, they ...</td>\n",
       "      <td>Simpson Strong-Tie</td>\n",
       "    </tr>\n",
       "    <tr>\n",
       "      <th>2</th>\n",
       "      <td>9</td>\n",
       "      <td>BEHR Premium Textured DeckOver 1-gal. #SC-141 ...</td>\n",
       "      <td>100002</td>\n",
       "      <td>3.00</td>\n",
       "      <td>deck over</td>\n",
       "      <td>BEHR Premium Textured DECKOVER is an innovativ...</td>\n",
       "      <td>BEHR Premium Textured DeckOver</td>\n",
       "    </tr>\n",
       "    <tr>\n",
       "      <th>3</th>\n",
       "      <td>16</td>\n",
       "      <td>Delta Vero 1-Handle Shower Only Faucet Trim Ki...</td>\n",
       "      <td>100005</td>\n",
       "      <td>2.33</td>\n",
       "      <td>rain shower head</td>\n",
       "      <td>Update your bathroom with the Delta Vero Singl...</td>\n",
       "      <td>Delta</td>\n",
       "    </tr>\n",
       "    <tr>\n",
       "      <th>4</th>\n",
       "      <td>17</td>\n",
       "      <td>Delta Vero 1-Handle Shower Only Faucet Trim Ki...</td>\n",
       "      <td>100005</td>\n",
       "      <td>2.67</td>\n",
       "      <td>shower only faucet</td>\n",
       "      <td>Update your bathroom with the Delta Vero Singl...</td>\n",
       "      <td>Delta</td>\n",
       "    </tr>\n",
       "  </tbody>\n",
       "</table>\n",
       "</div>"
      ],
      "text/plain": [
       "   id                                      product_title product_uid  \\\n",
       "0   2                  Simpson Strong-Tie 12-Gauge Angle      100001   \n",
       "1   3                  Simpson Strong-Tie 12-Gauge Angle      100001   \n",
       "2   9  BEHR Premium Textured DeckOver 1-gal. #SC-141 ...      100002   \n",
       "3  16  Delta Vero 1-Handle Shower Only Faucet Trim Ki...      100005   \n",
       "4  17  Delta Vero 1-Handle Shower Only Faucet Trim Ki...      100005   \n",
       "\n",
       "   relevance         search_term  \\\n",
       "0       3.00       angle bracket   \n",
       "1       2.50           l bracket   \n",
       "2       3.00           deck over   \n",
       "3       2.33    rain shower head   \n",
       "4       2.67  shower only faucet   \n",
       "\n",
       "                                 product_description  \\\n",
       "0  Not only do angles make joints stronger, they ...   \n",
       "1  Not only do angles make joints stronger, they ...   \n",
       "2  BEHR Premium Textured DECKOVER is an innovativ...   \n",
       "3  Update your bathroom with the Delta Vero Singl...   \n",
       "4  Update your bathroom with the Delta Vero Singl...   \n",
       "\n",
       "                            brand  \n",
       "0              Simpson Strong-Tie  \n",
       "1              Simpson Strong-Tie  \n",
       "2  BEHR Premium Textured DeckOver  \n",
       "3                           Delta  \n",
       "4                           Delta  "
      ]
     },
     "execution_count": 7,
     "metadata": {},
     "output_type": "execute_result"
    }
   ],
   "source": [
    "num_train = df_train.shape[0]\n",
    "df_all = pd.concat((df_train, df_test), axis=0, ignore_index=True)\n",
    "df_all = pd.merge(df_all, df_pro_desc, how='left', on='product_uid')\n",
    "df_all = pd.merge(df_all, df_brand, how='left', on='product_uid')\n",
    "df_all.head()"
   ]
  },
  {
   "cell_type": "code",
   "execution_count": 8,
   "metadata": {
    "collapsed": true
   },
   "outputs": [],
   "source": [
    "num_train = df_train.shape[0]"
   ]
  },
  {
   "cell_type": "code",
   "execution_count": 9,
   "metadata": {
    "collapsed": true
   },
   "outputs": [],
   "source": [
    "def str_stem(s): \n",
    "    if isinstance(s, str):\n",
    "        s = s.lower()\n",
    "        s = re.sub(r\"(\\w)\\.([A-Z])\", r\"\\1 \\2\", s) ##'desgruda' palavras que estão juntas\n",
    "\n",
    "        s = re.sub(r\"([0-9]+)( *)(inches|inch|in|')\\.?\", r\"\\1in. \", s)\n",
    "    \n",
    "        s = re.sub(r\"([0-9]+)( *)(foot|feet|ft|'')\\.?\", r\"\\1ft. \", s)\n",
    "    \n",
    "        s = re.sub(r\"([0-9]+)( *)(pounds|pound|lbs|lb)\\.?\", r\"\\1lb. \", s)\n",
    "    \n",
    "        s = s.replace(\" x \",\" xby \")\n",
    "        s = s.replace(\"*\",\" xby \")\n",
    "        s = s.replace(\" by \",\" xby\")\n",
    "        s = s.replace(\"x0\",\" xby 0\")\n",
    "        s = s.replace(\"x1\",\" xby 1\")\n",
    "        s = s.replace(\"x2\",\" xby 2\")\n",
    "        s = s.replace(\"x3\",\" xby 3\")\n",
    "        s = s.replace(\"x4\",\" xby 4\")\n",
    "        s = s.replace(\"x5\",\" xby 5\")\n",
    "        s = s.replace(\"x6\",\" xby 6\")\n",
    "        s = s.replace(\"x7\",\" xby 7\")\n",
    "        s = s.replace(\"x8\",\" xby 8\")\n",
    "        s = s.replace(\"x9\",\" xby 9\")\n",
    "        s = s.replace(\"0x\",\"0 xby \")\n",
    "        s = s.replace(\"1x\",\"1 xby \")\n",
    "        s = s.replace(\"2x\",\"2 xby \")\n",
    "        s = s.replace(\"3x\",\"3 xby \")\n",
    "        s = s.replace(\"4x\",\"4 xby \")\n",
    "        s = s.replace(\"5x\",\"5 xby \")\n",
    "        s = s.replace(\"6x\",\"6 xby \")\n",
    "        s = s.replace(\"7x\",\"7 xby \")\n",
    "        s = s.replace(\"8x\",\"8 xby \")\n",
    "        s = s.replace(\"9x\",\"9 xby \")\n",
    "        \n",
    "        s = re.sub(r\"([0-9]+)( *)(square|sq) ?\\.?(feet|foot|ft)\\.?\", r\"\\1sq.ft. \", s)\n",
    "    \n",
    "        s = re.sub(r\"([0-9]+)( *)(gallons|gallon|gal)\\.?\", r\"\\1gal. \", s)\n",
    "        \n",
    "        s = re.sub(r\"([0-9]+)( *)(ounces|ounce|oz)\\.?\", r\"\\1oz. \", s)\n",
    "    \n",
    "        s = re.sub(r\"([0-9]+)( *)(centimeters|cm)\\.?\", r\"\\1cm. \", s)\n",
    "    \n",
    "        s = re.sub(r\"([0-9]+)( *)(milimeters|mm)\\.?\", r\"\\1mm. \", s)\n",
    "        \n",
    "        s = re.sub(r\"([0-9]+)( *)(degrees|degree)\\.?\", r\"\\1deg. \", s)\n",
    "    \n",
    "        s = re.sub(r\"([0-9]+)( *)(volts|volt)\\.?\", r\"\\1volt. \", s)\n",
    "        \n",
    "        s = re.sub(r\"([0-9]+)( *)(watts|watt)\\.?\", r\"\\1watt. \", s)\n",
    "    \n",
    "        s = re.sub(r\"([0-9]+)( *)(amperes|ampere|amps|amp)\\.?\", r\"\\1amp. \", s)\n",
    "        \n",
    "        \n",
    "        \n",
    "        s = s.replace(\"whirpool\",\"whirlpool\")\n",
    "        s = s.replace(\"whirlpoolga\", \"whirlpool\")\n",
    "        s = s.replace(\"whirlpoolstainless\",\"whirlpool stainless\")\n",
    "\n",
    "        s = s.replace(\"  \",\" \")\n",
    "        #s = (\" \").join([stemmer.stem(z) for z in s.lower().split(\" \")])\n",
    "        s = (\" \").join([stemmer.stem(z) for z in s.split(\" \")])\n",
    "        return s.lower()\n",
    "    else:\n",
    "        return \"null\""
   ]
  },
  {
   "cell_type": "code",
   "execution_count": 10,
   "metadata": {
    "collapsed": true
   },
   "outputs": [],
   "source": [
    "def stopper(s):\n",
    "    return \" \".join([w for w in s.split() if w not in stop])"
   ]
  },
  {
   "cell_type": "code",
   "execution_count": 11,
   "metadata": {
    "collapsed": true
   },
   "outputs": [],
   "source": [
    "\n",
    "def str_common_word(str1, str2):\n",
    "    words, cnt = str1.split(), 0\n",
    "    for word in words:\n",
    "        if str2.find(word)>=0:\n",
    "            cnt+=1\n",
    "    return cnt\n",
    "\n",
    "def str_whole_word(str1, str2, i_):\n",
    "    cnt = 0\n",
    "    while i_ < len(str2):\n",
    "        i_ = str2.find(str1, i_)\n",
    "        if i_ == -1:\n",
    "            return cnt\n",
    "        else:\n",
    "            cnt += 1\n",
    "            i_ += len(str1)\n",
    "    return cnt"
   ]
  },
  {
   "cell_type": "code",
   "execution_count": null,
   "metadata": {
    "collapsed": true
   },
   "outputs": [],
   "source": [
    "\n",
    "def words(text): return re.findall(r'\\w+', text.lower())\n",
    "\n",
    "WORDS = Counter(words(open('big.txt').read()))\n",
    "\n",
    "def P(word, N=sum(WORDS.values())): \n",
    "    \"Probability of `word`.\"\n",
    "    return WORDS[word] / N\n",
    "\n",
    "def correction(word): \n",
    "    \"Most probable spelling correction for word.\"\n",
    "    return max(candidates(word), key=P)\n",
    "\n",
    "def candidates(word): \n",
    "    \"Generate possible spelling corrections for word.\"\n",
    "    return (known([word]) or known(edits1(word)) or known(edits2(word)) or [word])\n",
    "\n",
    "def known(words): \n",
    "    \"The subset of `words` that appear in the dictionary of WORDS.\"\n",
    "    return set(w for w in words if w in WORDS)\n",
    "\n",
    "def edits1(word):\n",
    "    \"All edits that are one edit away from `word`.\"\n",
    "    letters    = 'abcdefghijklmnopqrstuvwxyz'\n",
    "    splits     = [(word[:i], word[i:])    for i in range(len(word) + 1)]\n",
    "    deletes    = [L + R[1:]               for L, R in splits if R]\n",
    "    transposes = [L + R[1] + R[0] + R[2:] for L, R in splits if len(R)>1]\n",
    "    replaces   = [L + c + R[1:]           for L, R in splits if R for c in letters]\n",
    "    inserts    = [L + c + R               for L, R in splits for c in letters]\n",
    "    return set(deletes + transposes + replaces + inserts)\n",
    "\n",
    "def edits2(word): \n",
    "    \"All edits that are two edits away from `word`.\"\n",
    "    return (e2 for e1 in edits1(word) for e2 in edits1(e1))"
   ]
  },
  {
   "cell_type": "code",
   "execution_count": null,
   "metadata": {
    "collapsed": true
   },
   "outputs": [],
   "source": [
    "df_all['search_term'] = df_all['search_term'].map(lambda x: correction(x))\n",
    "df_all['product_title'] = df_all['product_title'].map(lambda x: correction(x))\n",
    "df_all['product_description'] = df_all['product_description'].map(lambda x: correction(x))\n"
   ]
  },
  {
   "cell_type": "code",
   "execution_count": 14,
   "metadata": {
    "collapsed": true
   },
   "outputs": [],
   "source": [
    "from nltk.corpus import stopwords\n",
    "stop = stopwords.words('english')\n",
    "df_all['search_term'] = df_all['search_term'].map(lambda x:stopper(x))\n",
    "df_all['product_title'] = df_all['product_title'].map(lambda x:stopper(x))\n",
    "df_all['product_description'] = df_all['product_description'].map(lambda x:stopper(x))\n",
    "df_all['brand'] = df_all['brand'].astype(str)\n",
    "df_all['brand'] = df_all['brand'].map(lambda x:stopper(x))\n",
    "#type(df_all['brand'])"
   ]
  },
  {
   "cell_type": "code",
   "execution_count": 15,
   "metadata": {
    "collapsed": true
   },
   "outputs": [],
   "source": [
    "df_all['search_term'] = df_all['search_term'].map(lambda x:str_stem(x))\n",
    "df_all['product_title'] = df_all['product_title'].map(lambda x:str_stem(x))\n",
    "df_all['product_description'] = df_all['product_description'].map(lambda x:str_stem(x))\n",
    "df_all['brand'] = df_all['brand'].map(lambda x:str_stem(x))"
   ]
  },
  {
   "cell_type": "code",
   "execution_count": 16,
   "metadata": {
    "collapsed": true
   },
   "outputs": [],
   "source": [
    "df_all['len_of_query'] = df_all['search_term'].map(lambda x:len(x.split())).astype(np.int64)\n",
    "df_all['len_of_title'] = df_all['product_title'].map(lambda x:len(x.split())).astype(np.int64)\n",
    "df_all['len_of_description'] = df_all['product_description'].map(lambda x:len(x.split())).astype(np.int64)\n",
    "df_all['len_of_brand'] = df_all['brand'].map(lambda x:len(x.split())).astype(np.int64)"
   ]
  },
  {
   "cell_type": "code",
   "execution_count": 17,
   "metadata": {
    "collapsed": true
   },
   "outputs": [],
   "source": [
    "df_brand = pd.unique(df_all.brand.ravel())"
   ]
  },
  {
   "cell_type": "code",
   "execution_count": 18,
   "metadata": {
    "collapsed": true
   },
   "outputs": [],
   "source": [
    "df_all['product_info'] = df_all['search_term']+\"\\t\"+df_all['product_title'] +\"\\t\"+df_all['product_description']\n",
    "df_all['attr'] = df_all['search_term']+\"\\t\"+df_all['brand']\n",
    "#df_all['query_in_title'] = df_all['product_info'].map(lambda x:str_whole_word(x.split('\\t')[0],x.split('\\t')[1],0))\n",
    "\n",
    "#df_all['query_in_description'] = df_all['product_info'].map(lambda x:str_whole_word(x.split('\\t')[0],x.split('\\t')[2],0))\n",
    "df_all['word_in_title'] = df_all['product_info'].map(lambda x:str_common_word(x.split('\\t')[0],x.split('\\t')[1]))\n",
    "\n",
    "df_all['word_in_description'] = df_all['product_info'].map(lambda x:str_common_word(x.split('\\t')[0],x.split('\\t')[2]))\n",
    "#df_all['ratio_title'] = df_all['word_in_title']/df_all['len_of_query']\n",
    "#df_all['ratio_description'] = df_all['word_in_description']/df_all['len_of_query']\n",
    "\n",
    "\n",
    "\n",
    "df_all['word_in_brand'] = df_all['attr'].map(lambda x:str_common_word(x.split('\\t')[0],x.split('\\t')[1]))\n",
    "#df_all['ratio_brand'] = df_all['word_in_brand']/df_all['len_of_brand']"
   ]
  },
  {
   "cell_type": "code",
   "execution_count": 19,
   "metadata": {},
   "outputs": [
    {
     "data": {
      "text/html": [
       "<div>\n",
       "<style>\n",
       "    .dataframe thead tr:only-child th {\n",
       "        text-align: right;\n",
       "    }\n",
       "\n",
       "    .dataframe thead th {\n",
       "        text-align: left;\n",
       "    }\n",
       "\n",
       "    .dataframe tbody tr th {\n",
       "        vertical-align: top;\n",
       "    }\n",
       "</style>\n",
       "<table border=\"1\" class=\"dataframe\">\n",
       "  <thead>\n",
       "    <tr style=\"text-align: right;\">\n",
       "      <th></th>\n",
       "      <th>id</th>\n",
       "      <th>product_title</th>\n",
       "      <th>product_uid</th>\n",
       "      <th>relevance</th>\n",
       "      <th>search_term</th>\n",
       "      <th>product_description</th>\n",
       "      <th>brand</th>\n",
       "      <th>len_of_query</th>\n",
       "      <th>len_of_title</th>\n",
       "      <th>len_of_description</th>\n",
       "      <th>len_of_brand</th>\n",
       "      <th>product_info</th>\n",
       "      <th>attr</th>\n",
       "      <th>word_in_title</th>\n",
       "      <th>word_in_description</th>\n",
       "      <th>word_in_brand</th>\n",
       "    </tr>\n",
       "  </thead>\n",
       "  <tbody>\n",
       "    <tr>\n",
       "      <th>0</th>\n",
       "      <td>2</td>\n",
       "      <td>simpson strong-ti 12-gaug angl</td>\n",
       "      <td>100001</td>\n",
       "      <td>3.00</td>\n",
       "      <td>angl bracket</td>\n",
       "      <td>not angl make joint stronger, also provid cons...</td>\n",
       "      <td>simpson strong-ti</td>\n",
       "      <td>2</td>\n",
       "      <td>4</td>\n",
       "      <td>86</td>\n",
       "      <td>2</td>\n",
       "      <td>angl bracket\\tsimpson strong-ti 12-gaug angl\\t...</td>\n",
       "      <td>angl bracket\\tsimpson strong-ti</td>\n",
       "      <td>1</td>\n",
       "      <td>1</td>\n",
       "      <td>0</td>\n",
       "    </tr>\n",
       "    <tr>\n",
       "      <th>1</th>\n",
       "      <td>3</td>\n",
       "      <td>simpson strong-ti 12-gaug angl</td>\n",
       "      <td>100001</td>\n",
       "      <td>2.50</td>\n",
       "      <td>l bracket</td>\n",
       "      <td>not angl make joint stronger, also provid cons...</td>\n",
       "      <td>simpson strong-ti</td>\n",
       "      <td>2</td>\n",
       "      <td>4</td>\n",
       "      <td>86</td>\n",
       "      <td>2</td>\n",
       "      <td>l bracket\\tsimpson strong-ti 12-gaug angl\\tnot...</td>\n",
       "      <td>l bracket\\tsimpson strong-ti</td>\n",
       "      <td>1</td>\n",
       "      <td>1</td>\n",
       "      <td>0</td>\n",
       "    </tr>\n",
       "    <tr>\n",
       "      <th>2</th>\n",
       "      <td>9</td>\n",
       "      <td>behr premium textur deckov 1-gal. #sc-141 tugb...</td>\n",
       "      <td>100002</td>\n",
       "      <td>3.00</td>\n",
       "      <td>deck</td>\n",
       "      <td>behr premium textur deckov innov solid color c...</td>\n",
       "      <td>behr premium textur deckov</td>\n",
       "      <td>1</td>\n",
       "      <td>10</td>\n",
       "      <td>122</td>\n",
       "      <td>4</td>\n",
       "      <td>deck\\tbehr premium textur deckov 1-gal. #sc-14...</td>\n",
       "      <td>deck\\tbehr premium textur deckov</td>\n",
       "      <td>1</td>\n",
       "      <td>1</td>\n",
       "      <td>1</td>\n",
       "    </tr>\n",
       "    <tr>\n",
       "      <th>3</th>\n",
       "      <td>16</td>\n",
       "      <td>delta vero 1-handl shower onli faucet trim kit...</td>\n",
       "      <td>100005</td>\n",
       "      <td>2.33</td>\n",
       "      <td>rain shower head</td>\n",
       "      <td>updat bathroom delta vero single-handl shower ...</td>\n",
       "      <td>delta</td>\n",
       "      <td>3</td>\n",
       "      <td>12</td>\n",
       "      <td>67</td>\n",
       "      <td>1</td>\n",
       "      <td>rain shower head\\tdelta vero 1-handl shower on...</td>\n",
       "      <td>rain shower head\\tdelta</td>\n",
       "      <td>1</td>\n",
       "      <td>1</td>\n",
       "      <td>0</td>\n",
       "    </tr>\n",
       "    <tr>\n",
       "      <th>4</th>\n",
       "      <td>17</td>\n",
       "      <td>delta vero 1-handl shower onli faucet trim kit...</td>\n",
       "      <td>100005</td>\n",
       "      <td>2.67</td>\n",
       "      <td>shower faucet</td>\n",
       "      <td>updat bathroom delta vero single-handl shower ...</td>\n",
       "      <td>delta</td>\n",
       "      <td>2</td>\n",
       "      <td>12</td>\n",
       "      <td>67</td>\n",
       "      <td>1</td>\n",
       "      <td>shower faucet\\tdelta vero 1-handl shower onli ...</td>\n",
       "      <td>shower faucet\\tdelta</td>\n",
       "      <td>2</td>\n",
       "      <td>2</td>\n",
       "      <td>0</td>\n",
       "    </tr>\n",
       "  </tbody>\n",
       "</table>\n",
       "</div>"
      ],
      "text/plain": [
       "   id                                      product_title product_uid  \\\n",
       "0   2                     simpson strong-ti 12-gaug angl      100001   \n",
       "1   3                     simpson strong-ti 12-gaug angl      100001   \n",
       "2   9  behr premium textur deckov 1-gal. #sc-141 tugb...      100002   \n",
       "3  16  delta vero 1-handl shower onli faucet trim kit...      100005   \n",
       "4  17  delta vero 1-handl shower onli faucet trim kit...      100005   \n",
       "\n",
       "   relevance       search_term  \\\n",
       "0       3.00      angl bracket   \n",
       "1       2.50         l bracket   \n",
       "2       3.00              deck   \n",
       "3       2.33  rain shower head   \n",
       "4       2.67     shower faucet   \n",
       "\n",
       "                                 product_description  \\\n",
       "0  not angl make joint stronger, also provid cons...   \n",
       "1  not angl make joint stronger, also provid cons...   \n",
       "2  behr premium textur deckov innov solid color c...   \n",
       "3  updat bathroom delta vero single-handl shower ...   \n",
       "4  updat bathroom delta vero single-handl shower ...   \n",
       "\n",
       "                        brand  len_of_query  len_of_title  len_of_description  \\\n",
       "0           simpson strong-ti             2             4                  86   \n",
       "1           simpson strong-ti             2             4                  86   \n",
       "2  behr premium textur deckov             1            10                 122   \n",
       "3                       delta             3            12                  67   \n",
       "4                       delta             2            12                  67   \n",
       "\n",
       "   len_of_brand                                       product_info  \\\n",
       "0             2  angl bracket\\tsimpson strong-ti 12-gaug angl\\t...   \n",
       "1             2  l bracket\\tsimpson strong-ti 12-gaug angl\\tnot...   \n",
       "2             4  deck\\tbehr premium textur deckov 1-gal. #sc-14...   \n",
       "3             1  rain shower head\\tdelta vero 1-handl shower on...   \n",
       "4             1  shower faucet\\tdelta vero 1-handl shower onli ...   \n",
       "\n",
       "                               attr  word_in_title  word_in_description  \\\n",
       "0   angl bracket\\tsimpson strong-ti              1                    1   \n",
       "1      l bracket\\tsimpson strong-ti              1                    1   \n",
       "2  deck\\tbehr premium textur deckov              1                    1   \n",
       "3           rain shower head\\tdelta              1                    1   \n",
       "4              shower faucet\\tdelta              2                    2   \n",
       "\n",
       "   word_in_brand  \n",
       "0              0  \n",
       "1              0  \n",
       "2              1  \n",
       "3              0  \n",
       "4              0  "
      ]
     },
     "execution_count": 19,
     "metadata": {},
     "output_type": "execute_result"
    }
   ],
   "source": [
    "df_all.head()"
   ]
  },
  {
   "cell_type": "code",
   "execution_count": 23,
   "metadata": {
    "collapsed": true
   },
   "outputs": [],
   "source": [
    "df_all_t = df_all.drop(['search_term','product_title','product_description','product_info'],axis=1)"
   ]
  },
  {
   "cell_type": "code",
   "execution_count": 24,
   "metadata": {},
   "outputs": [
    {
     "data": {
      "text/html": [
       "<div>\n",
       "<style>\n",
       "    .dataframe thead tr:only-child th {\n",
       "        text-align: right;\n",
       "    }\n",
       "\n",
       "    .dataframe thead th {\n",
       "        text-align: left;\n",
       "    }\n",
       "\n",
       "    .dataframe tbody tr th {\n",
       "        vertical-align: top;\n",
       "    }\n",
       "</style>\n",
       "<table border=\"1\" class=\"dataframe\">\n",
       "  <thead>\n",
       "    <tr style=\"text-align: right;\">\n",
       "      <th></th>\n",
       "      <th>id</th>\n",
       "      <th>product_uid</th>\n",
       "      <th>relevance</th>\n",
       "      <th>brand</th>\n",
       "      <th>len_of_query</th>\n",
       "      <th>len_of_title</th>\n",
       "      <th>len_of_description</th>\n",
       "      <th>len_of_brand</th>\n",
       "      <th>attr</th>\n",
       "      <th>word_in_title</th>\n",
       "      <th>word_in_description</th>\n",
       "      <th>word_in_brand</th>\n",
       "    </tr>\n",
       "  </thead>\n",
       "  <tbody>\n",
       "    <tr>\n",
       "      <th>0</th>\n",
       "      <td>2</td>\n",
       "      <td>100001</td>\n",
       "      <td>3.00</td>\n",
       "      <td>simpson strong-ti</td>\n",
       "      <td>2</td>\n",
       "      <td>4</td>\n",
       "      <td>86</td>\n",
       "      <td>2</td>\n",
       "      <td>angl bracket\\tsimpson strong-ti</td>\n",
       "      <td>1</td>\n",
       "      <td>1</td>\n",
       "      <td>0</td>\n",
       "    </tr>\n",
       "    <tr>\n",
       "      <th>1</th>\n",
       "      <td>3</td>\n",
       "      <td>100001</td>\n",
       "      <td>2.50</td>\n",
       "      <td>simpson strong-ti</td>\n",
       "      <td>2</td>\n",
       "      <td>4</td>\n",
       "      <td>86</td>\n",
       "      <td>2</td>\n",
       "      <td>l bracket\\tsimpson strong-ti</td>\n",
       "      <td>1</td>\n",
       "      <td>1</td>\n",
       "      <td>0</td>\n",
       "    </tr>\n",
       "    <tr>\n",
       "      <th>2</th>\n",
       "      <td>9</td>\n",
       "      <td>100002</td>\n",
       "      <td>3.00</td>\n",
       "      <td>behr premium textur deckov</td>\n",
       "      <td>1</td>\n",
       "      <td>10</td>\n",
       "      <td>122</td>\n",
       "      <td>4</td>\n",
       "      <td>deck\\tbehr premium textur deckov</td>\n",
       "      <td>1</td>\n",
       "      <td>1</td>\n",
       "      <td>1</td>\n",
       "    </tr>\n",
       "    <tr>\n",
       "      <th>3</th>\n",
       "      <td>16</td>\n",
       "      <td>100005</td>\n",
       "      <td>2.33</td>\n",
       "      <td>delta</td>\n",
       "      <td>3</td>\n",
       "      <td>12</td>\n",
       "      <td>67</td>\n",
       "      <td>1</td>\n",
       "      <td>rain shower head\\tdelta</td>\n",
       "      <td>1</td>\n",
       "      <td>1</td>\n",
       "      <td>0</td>\n",
       "    </tr>\n",
       "    <tr>\n",
       "      <th>4</th>\n",
       "      <td>17</td>\n",
       "      <td>100005</td>\n",
       "      <td>2.67</td>\n",
       "      <td>delta</td>\n",
       "      <td>2</td>\n",
       "      <td>12</td>\n",
       "      <td>67</td>\n",
       "      <td>1</td>\n",
       "      <td>shower faucet\\tdelta</td>\n",
       "      <td>2</td>\n",
       "      <td>2</td>\n",
       "      <td>0</td>\n",
       "    </tr>\n",
       "  </tbody>\n",
       "</table>\n",
       "</div>"
      ],
      "text/plain": [
       "   id product_uid  relevance                       brand  len_of_query  \\\n",
       "0   2      100001       3.00           simpson strong-ti             2   \n",
       "1   3      100001       2.50           simpson strong-ti             2   \n",
       "2   9      100002       3.00  behr premium textur deckov             1   \n",
       "3  16      100005       2.33                       delta             3   \n",
       "4  17      100005       2.67                       delta             2   \n",
       "\n",
       "   len_of_title  len_of_description  len_of_brand  \\\n",
       "0             4                  86             2   \n",
       "1             4                  86             2   \n",
       "2            10                 122             4   \n",
       "3            12                  67             1   \n",
       "4            12                  67             1   \n",
       "\n",
       "                               attr  word_in_title  word_in_description  \\\n",
       "0   angl bracket\\tsimpson strong-ti              1                    1   \n",
       "1      l bracket\\tsimpson strong-ti              1                    1   \n",
       "2  deck\\tbehr premium textur deckov              1                    1   \n",
       "3           rain shower head\\tdelta              1                    1   \n",
       "4              shower faucet\\tdelta              2                    2   \n",
       "\n",
       "   word_in_brand  \n",
       "0              0  \n",
       "1              0  \n",
       "2              1  \n",
       "3              0  \n",
       "4              0  "
      ]
     },
     "execution_count": 24,
     "metadata": {},
     "output_type": "execute_result"
    }
   ],
   "source": [
    "df_all_t.head()"
   ]
  },
  {
   "cell_type": "code",
   "execution_count": 25,
   "metadata": {},
   "outputs": [
    {
     "data": {
      "text/html": [
       "<div>\n",
       "<style>\n",
       "    .dataframe thead tr:only-child th {\n",
       "        text-align: right;\n",
       "    }\n",
       "\n",
       "    .dataframe thead th {\n",
       "        text-align: left;\n",
       "    }\n",
       "\n",
       "    .dataframe tbody tr th {\n",
       "        vertical-align: top;\n",
       "    }\n",
       "</style>\n",
       "<table border=\"1\" class=\"dataframe\">\n",
       "  <thead>\n",
       "    <tr style=\"text-align: right;\">\n",
       "      <th></th>\n",
       "      <th>id</th>\n",
       "      <th>product_uid</th>\n",
       "      <th>relevance</th>\n",
       "      <th>len_of_query</th>\n",
       "      <th>len_of_title</th>\n",
       "      <th>len_of_description</th>\n",
       "      <th>len_of_brand</th>\n",
       "      <th>word_in_title</th>\n",
       "      <th>word_in_description</th>\n",
       "      <th>word_in_brand</th>\n",
       "    </tr>\n",
       "  </thead>\n",
       "  <tbody>\n",
       "    <tr>\n",
       "      <th>0</th>\n",
       "      <td>2</td>\n",
       "      <td>100001</td>\n",
       "      <td>3.00</td>\n",
       "      <td>2</td>\n",
       "      <td>4</td>\n",
       "      <td>86</td>\n",
       "      <td>2</td>\n",
       "      <td>1</td>\n",
       "      <td>1</td>\n",
       "      <td>0</td>\n",
       "    </tr>\n",
       "    <tr>\n",
       "      <th>1</th>\n",
       "      <td>3</td>\n",
       "      <td>100001</td>\n",
       "      <td>2.50</td>\n",
       "      <td>2</td>\n",
       "      <td>4</td>\n",
       "      <td>86</td>\n",
       "      <td>2</td>\n",
       "      <td>1</td>\n",
       "      <td>1</td>\n",
       "      <td>0</td>\n",
       "    </tr>\n",
       "    <tr>\n",
       "      <th>2</th>\n",
       "      <td>9</td>\n",
       "      <td>100002</td>\n",
       "      <td>3.00</td>\n",
       "      <td>1</td>\n",
       "      <td>10</td>\n",
       "      <td>122</td>\n",
       "      <td>4</td>\n",
       "      <td>1</td>\n",
       "      <td>1</td>\n",
       "      <td>1</td>\n",
       "    </tr>\n",
       "    <tr>\n",
       "      <th>3</th>\n",
       "      <td>16</td>\n",
       "      <td>100005</td>\n",
       "      <td>2.33</td>\n",
       "      <td>3</td>\n",
       "      <td>12</td>\n",
       "      <td>67</td>\n",
       "      <td>1</td>\n",
       "      <td>1</td>\n",
       "      <td>1</td>\n",
       "      <td>0</td>\n",
       "    </tr>\n",
       "    <tr>\n",
       "      <th>4</th>\n",
       "      <td>17</td>\n",
       "      <td>100005</td>\n",
       "      <td>2.67</td>\n",
       "      <td>2</td>\n",
       "      <td>12</td>\n",
       "      <td>67</td>\n",
       "      <td>1</td>\n",
       "      <td>2</td>\n",
       "      <td>2</td>\n",
       "      <td>0</td>\n",
       "    </tr>\n",
       "  </tbody>\n",
       "</table>\n",
       "</div>"
      ],
      "text/plain": [
       "   id product_uid  relevance  len_of_query  len_of_title  len_of_description  \\\n",
       "0   2      100001       3.00             2             4                  86   \n",
       "1   3      100001       2.50             2             4                  86   \n",
       "2   9      100002       3.00             1            10                 122   \n",
       "3  16      100005       2.33             3            12                  67   \n",
       "4  17      100005       2.67             2            12                  67   \n",
       "\n",
       "   len_of_brand  word_in_title  word_in_description  word_in_brand  \n",
       "0             2              1                    1              0  \n",
       "1             2              1                    1              0  \n",
       "2             4              1                    1              1  \n",
       "3             1              1                    1              0  \n",
       "4             1              2                    2              0  "
      ]
     },
     "execution_count": 25,
     "metadata": {},
     "output_type": "execute_result"
    }
   ],
   "source": [
    "df_all_t = df_all_t.drop(['attr','brand'],axis=1)\n",
    "df_all_t.head()"
   ]
  },
  {
   "cell_type": "code",
   "execution_count": 59,
   "metadata": {
    "collapsed": true
   },
   "outputs": [],
   "source": [
    "df_train = df_all_t.iloc[:num_train]\n",
    "df_test = df_all_t.iloc[num_train:]\n",
    "id_test = df_test['id']\n",
    "\n",
    "y_train = df_train['relevance'].values\n",
    "X_train = df_train.drop(['id','relevance'],axis=1).values\n",
    "X_test = df_test.drop(['id','relevance'],axis=1).values\n",
    "\n"
   ]
  },
  {
   "cell_type": "code",
   "execution_count": 80,
   "metadata": {
    "collapsed": true
   },
   "outputs": [],
   "source": [
    "df_train.to_csv('df_train.csv',index=False)\n",
    "df_test.to_csv('df_test.csv',index=False)\n",
    "\n",
    "pd.DataFrame(y_train).to_csv('y_train.csv')\n",
    "pd.DataFrame(X_train).to_csv('X_train.csv')\n",
    "pd.DataFrame(X_test).to_csv('X_test.csv')\n"
   ]
  },
  {
   "cell_type": "code",
   "execution_count": 23,
   "metadata": {
    "collapsed": true
   },
   "outputs": [],
   "source": [
    "#If you are not running whole script for model building\n",
    "\n",
    "X_train=pd.read_csv(\"C:/Users/Karthik/Desktop/Coursera/NLP/home depot/X_train.csv\")\n",
    "XX_train=pd.read_csv(\"C:/Users/Karthik/Desktop/Coursera/NLP/home depot/X_train.csv\")\n",
    "X_test=pd.read_csv('C:/Users/Karthik/Desktop/Coursera/NLP/home depot/X_test.csv')\n",
    "y_train=pd.read_csv('C:/Users/Karthik/Desktop/Coursera/NLP/home depot/y_train.csv')\n",
    "y_train=y_train.drop(['Unnamed: 0'],axis=1)\n",
    "X_test=X_test.drop(['Unnamed: 0'],axis=1)\n",
    "X_train=X_train.drop(['Unnamed: 0'],axis=1)\n",
    "df_test=pd.read_csv('C:/Users/Karthik/Desktop/Coursera/NLP/home depot/df_test.csv')\n",
    "df_train=pd.read_csv('C:/Users/Karthik/Desktop/Coursera/NLP/home depot/df_train.csv')\n",
    "id_test = df_test['id']"
   ]
  },
  {
   "cell_type": "code",
   "execution_count": 4,
   "metadata": {
    "collapsed": true
   },
   "outputs": [],
   "source": [
    "def train_validate_test_split(df, train_percent=.6, seed=2016):\n",
    "    np.random.seed(seed)\n",
    "    perm = np.random.permutation(df.index)\n",
    "    m = len(df)\n",
    "    train_end = int(train_percent * m)\n",
    "    train = df.iloc[perm[:train_end]]\n",
    "    test = df.iloc[perm[train_end:]]\n",
    "    return train, test\n",
    "train,test=train_validate_test_split(df_train)"
   ]
  },
  {
   "cell_type": "code",
   "execution_count": 5,
   "metadata": {},
   "outputs": [
    {
     "data": {
      "text/html": [
       "<div>\n",
       "<style>\n",
       "    .dataframe thead tr:only-child th {\n",
       "        text-align: right;\n",
       "    }\n",
       "\n",
       "    .dataframe thead th {\n",
       "        text-align: left;\n",
       "    }\n",
       "\n",
       "    .dataframe tbody tr th {\n",
       "        vertical-align: top;\n",
       "    }\n",
       "</style>\n",
       "<table border=\"1\" class=\"dataframe\">\n",
       "  <thead>\n",
       "    <tr style=\"text-align: right;\">\n",
       "      <th></th>\n",
       "      <th>id</th>\n",
       "      <th>product_uid</th>\n",
       "      <th>relevance</th>\n",
       "      <th>len_of_query</th>\n",
       "      <th>len_of_title</th>\n",
       "      <th>len_of_description</th>\n",
       "      <th>len_of_brand</th>\n",
       "      <th>word_in_title</th>\n",
       "      <th>word_in_description</th>\n",
       "      <th>word_in_brand</th>\n",
       "    </tr>\n",
       "  </thead>\n",
       "  <tbody>\n",
       "    <tr>\n",
       "      <th>48343</th>\n",
       "      <td>146763</td>\n",
       "      <td>154269</td>\n",
       "      <td>3.00</td>\n",
       "      <td>3</td>\n",
       "      <td>11</td>\n",
       "      <td>77</td>\n",
       "      <td>1</td>\n",
       "      <td>3</td>\n",
       "      <td>3</td>\n",
       "      <td>0</td>\n",
       "    </tr>\n",
       "    <tr>\n",
       "      <th>7899</th>\n",
       "      <td>24612</td>\n",
       "      <td>104912</td>\n",
       "      <td>2.33</td>\n",
       "      <td>2</td>\n",
       "      <td>11</td>\n",
       "      <td>81</td>\n",
       "      <td>1</td>\n",
       "      <td>2</td>\n",
       "      <td>2</td>\n",
       "      <td>0</td>\n",
       "    </tr>\n",
       "    <tr>\n",
       "      <th>2109</th>\n",
       "      <td>6508</td>\n",
       "      <td>101119</td>\n",
       "      <td>3.00</td>\n",
       "      <td>4</td>\n",
       "      <td>12</td>\n",
       "      <td>186</td>\n",
       "      <td>2</td>\n",
       "      <td>4</td>\n",
       "      <td>4</td>\n",
       "      <td>1</td>\n",
       "    </tr>\n",
       "    <tr>\n",
       "      <th>20622</th>\n",
       "      <td>63669</td>\n",
       "      <td>117350</td>\n",
       "      <td>2.67</td>\n",
       "      <td>3</td>\n",
       "      <td>14</td>\n",
       "      <td>71</td>\n",
       "      <td>1</td>\n",
       "      <td>1</td>\n",
       "      <td>1</td>\n",
       "      <td>0</td>\n",
       "    </tr>\n",
       "    <tr>\n",
       "      <th>62920</th>\n",
       "      <td>189705</td>\n",
       "      <td>181356</td>\n",
       "      <td>2.33</td>\n",
       "      <td>2</td>\n",
       "      <td>13</td>\n",
       "      <td>190</td>\n",
       "      <td>2</td>\n",
       "      <td>2</td>\n",
       "      <td>2</td>\n",
       "      <td>1</td>\n",
       "    </tr>\n",
       "  </tbody>\n",
       "</table>\n",
       "</div>"
      ],
      "text/plain": [
       "           id  product_uid  relevance  len_of_query  len_of_title  \\\n",
       "48343  146763       154269       3.00             3            11   \n",
       "7899    24612       104912       2.33             2            11   \n",
       "2109     6508       101119       3.00             4            12   \n",
       "20622   63669       117350       2.67             3            14   \n",
       "62920  189705       181356       2.33             2            13   \n",
       "\n",
       "       len_of_description  len_of_brand  word_in_title  word_in_description  \\\n",
       "48343                  77             1              3                    3   \n",
       "7899                   81             1              2                    2   \n",
       "2109                  186             2              4                    4   \n",
       "20622                  71             1              1                    1   \n",
       "62920                 190             2              2                    2   \n",
       "\n",
       "       word_in_brand  \n",
       "48343              0  \n",
       "7899               0  \n",
       "2109               1  \n",
       "20622              0  \n",
       "62920              1  "
      ]
     },
     "execution_count": 5,
     "metadata": {},
     "output_type": "execute_result"
    }
   ],
   "source": [
    "train.head()"
   ]
  },
  {
   "cell_type": "code",
   "execution_count": 14,
   "metadata": {
    "collapsed": true
   },
   "outputs": [],
   "source": [
    "pd.DataFrame(train).to_csv('train.csv')\n",
    "pd.DataFrame(test).to_csv('test.csv')"
   ]
  },
  {
   "cell_type": "code",
   "execution_count": 15,
   "metadata": {},
   "outputs": [
    {
     "data": {
      "text/html": [
       "<div>\n",
       "<style>\n",
       "    .dataframe thead tr:only-child th {\n",
       "        text-align: right;\n",
       "    }\n",
       "\n",
       "    .dataframe thead th {\n",
       "        text-align: left;\n",
       "    }\n",
       "\n",
       "    .dataframe tbody tr th {\n",
       "        vertical-align: top;\n",
       "    }\n",
       "</style>\n",
       "<table border=\"1\" class=\"dataframe\">\n",
       "  <thead>\n",
       "    <tr style=\"text-align: right;\">\n",
       "      <th></th>\n",
       "      <th>id</th>\n",
       "      <th>product_uid</th>\n",
       "      <th>relevance</th>\n",
       "      <th>len_of_query</th>\n",
       "      <th>len_of_title</th>\n",
       "      <th>len_of_description</th>\n",
       "      <th>len_of_brand</th>\n",
       "      <th>word_in_title</th>\n",
       "      <th>word_in_description</th>\n",
       "      <th>word_in_brand</th>\n",
       "    </tr>\n",
       "  </thead>\n",
       "  <tbody>\n",
       "    <tr>\n",
       "      <th>0</th>\n",
       "      <td>2</td>\n",
       "      <td>100001</td>\n",
       "      <td>3.00</td>\n",
       "      <td>2</td>\n",
       "      <td>4</td>\n",
       "      <td>86</td>\n",
       "      <td>2</td>\n",
       "      <td>1</td>\n",
       "      <td>1</td>\n",
       "      <td>0</td>\n",
       "    </tr>\n",
       "    <tr>\n",
       "      <th>1</th>\n",
       "      <td>3</td>\n",
       "      <td>100001</td>\n",
       "      <td>2.50</td>\n",
       "      <td>2</td>\n",
       "      <td>4</td>\n",
       "      <td>86</td>\n",
       "      <td>2</td>\n",
       "      <td>1</td>\n",
       "      <td>1</td>\n",
       "      <td>0</td>\n",
       "    </tr>\n",
       "    <tr>\n",
       "      <th>2</th>\n",
       "      <td>9</td>\n",
       "      <td>100002</td>\n",
       "      <td>3.00</td>\n",
       "      <td>1</td>\n",
       "      <td>10</td>\n",
       "      <td>122</td>\n",
       "      <td>4</td>\n",
       "      <td>1</td>\n",
       "      <td>1</td>\n",
       "      <td>1</td>\n",
       "    </tr>\n",
       "    <tr>\n",
       "      <th>3</th>\n",
       "      <td>16</td>\n",
       "      <td>100005</td>\n",
       "      <td>2.33</td>\n",
       "      <td>3</td>\n",
       "      <td>12</td>\n",
       "      <td>67</td>\n",
       "      <td>1</td>\n",
       "      <td>1</td>\n",
       "      <td>1</td>\n",
       "      <td>0</td>\n",
       "    </tr>\n",
       "    <tr>\n",
       "      <th>4</th>\n",
       "      <td>17</td>\n",
       "      <td>100005</td>\n",
       "      <td>2.67</td>\n",
       "      <td>2</td>\n",
       "      <td>12</td>\n",
       "      <td>67</td>\n",
       "      <td>1</td>\n",
       "      <td>2</td>\n",
       "      <td>2</td>\n",
       "      <td>0</td>\n",
       "    </tr>\n",
       "  </tbody>\n",
       "</table>\n",
       "</div>"
      ],
      "text/plain": [
       "   id  product_uid  relevance  len_of_query  len_of_title  len_of_description  \\\n",
       "0   2       100001       3.00             2             4                  86   \n",
       "1   3       100001       2.50             2             4                  86   \n",
       "2   9       100002       3.00             1            10                 122   \n",
       "3  16       100005       2.33             3            12                  67   \n",
       "4  17       100005       2.67             2            12                  67   \n",
       "\n",
       "   len_of_brand  word_in_title  word_in_description  word_in_brand  \n",
       "0             2              1                    1              0  \n",
       "1             2              1                    1              0  \n",
       "2             4              1                    1              1  \n",
       "3             1              1                    1              0  \n",
       "4             1              2                    2              0  "
      ]
     },
     "execution_count": 15,
     "metadata": {},
     "output_type": "execute_result"
    }
   ],
   "source": [
    "df_train.head()"
   ]
  },
  {
   "cell_type": "code",
   "execution_count": 6,
   "metadata": {},
   "outputs": [
    {
     "name": "stdout",
     "output_type": "stream",
     "text": [
      "Collecting xgboost\n",
      "  Downloading xgboost-0.7.post3.tar.gz (450kB)\n"
     ]
    },
    {
     "name": "stderr",
     "output_type": "stream",
     "text": [
      "No files/directories in C:\\Users\\Karthik\\AppData\\Local\\Temp\\pip-build-_qctko5i\\xgboost\\pip-egg-info (from PKG-INFO)\n"
     ]
    },
    {
     "data": {
      "text/plain": [
       "1"
      ]
     },
     "execution_count": 6,
     "metadata": {},
     "output_type": "execute_result"
    }
   ],
   "source": [
    "import pip\n",
    "pip.main(['install', 'xgboost'])"
   ]
  },
  {
   "cell_type": "code",
   "execution_count": 15,
   "metadata": {
    "collapsed": true
   },
   "outputs": [],
   "source": [
    "import xgboost as xgb\n",
    "from xgboost.sklearn import XGBRegressor   #Additional scklearn functions\n",
    "from sklearn.grid_search import GridSearchCV   #Perforing grid search\n",
    "from sklearn.model_selection import RandomizedSearchCV\n",
    "import scipy.stats as st\n",
    "import matplotlib.pylab as plt\n",
    "%matplotlib inline\n",
    "from matplotlib.pylab import rcParams\n",
    "rcParams['figure.figsize'] = 12, 4\n",
    "from sklearn import cross_validation, metrics   #Additional scklearn functions\n",
    "from sklearn.grid_search import GridSearchCV   #Perforing grid search\n",
    "from xgboost.sklearn import XGBClassifier"
   ]
  },
  {
   "cell_type": "code",
   "execution_count": 4,
   "metadata": {
    "collapsed": true
   },
   "outputs": [],
   "source": [
    "one_to_left = st.beta(10, 1)  \n",
    "from_zero_positive = st.expon(0, 50)\n",
    "\n",
    "params = {  \n",
    "    \"n_estimators\": st.randint(3, 40),\n",
    "    \"max_depth\": st.randint(3, 40),\n",
    "    \"learning_rate\": st.uniform(0.05, 0.4),\n",
    "    \"colsample_bytree\": one_to_left,\n",
    "    \"subsample\": one_to_left,\n",
    "    \"gamma\": st.uniform(0, 10),\n",
    "    'reg_alpha': from_zero_positive,\n",
    "    \"min_child_weight\": from_zero_positive,\n",
    "}\n",
    "\n",
    "xgbreg = XGBRegressor()  "
   ]
  },
  {
   "cell_type": "code",
   "execution_count": 7,
   "metadata": {},
   "outputs": [
    {
     "name": "stdout",
     "output_type": "stream",
     "text": [
      "Fitting 10 folds for each of 20 candidates, totalling 200 fits\n"
     ]
    },
    {
     "name": "stderr",
     "output_type": "stream",
     "text": [
      "[Parallel(n_jobs=1)]: Done 200 out of 200 | elapsed:  4.5min finished\n"
     ]
    },
    {
     "data": {
      "text/plain": [
       "{'colsample_bytree': 0.88654308007704141,\n",
       " 'gamma': 3.5727324740212554,\n",
       " 'learning_rate': 0.28867382828053406,\n",
       " 'max_depth': 24,\n",
       " 'min_child_weight': 14.557905868858725,\n",
       " 'n_estimators': 17,\n",
       " 'reg_alpha': 2.1001384849095248,\n",
       " 'subsample': 0.94946067493936037}"
      ]
     },
     "execution_count": 7,
     "metadata": {},
     "output_type": "execute_result"
    }
   ],
   "source": [
    "\n",
    "\n",
    "gs = RandomizedSearchCV(xgbreg, params, n_jobs=1,return_train_score=True,n_iter=20,cv=10,verbose=1,random_state=2016)  \n",
    "gs.fit(X_train, y_train)  \n"
   ]
  },
  {
   "cell_type": "code",
   "execution_count": 11,
   "metadata": {},
   "outputs": [
    {
     "data": {
      "text/plain": [
       "{'colsample_bytree': 0.88654308007704141,\n",
       " 'gamma': 3.5727324740212554,\n",
       " 'learning_rate': 0.28867382828053406,\n",
       " 'max_depth': 24,\n",
       " 'min_child_weight': 14.557905868858725,\n",
       " 'n_estimators': 17,\n",
       " 'reg_alpha': 2.1001384849095248,\n",
       " 'subsample': 0.94946067493936037}"
      ]
     },
     "execution_count": 11,
     "metadata": {},
     "output_type": "execute_result"
    }
   ],
   "source": [
    "gs.best_params_"
   ]
  },
  {
   "cell_type": "code",
   "execution_count": 10,
   "metadata": {},
   "outputs": [
    {
     "data": {
      "text/plain": [
       "XGBRegressor(base_score=0.5, booster='gbtree', colsample_bylevel=1,\n",
       "       colsample_bytree=0.88654308007704141, gamma=3.5727324740212554,\n",
       "       learning_rate=0.28867382828053406, max_delta_step=0, max_depth=24,\n",
       "       min_child_weight=14.557905868858725, missing=None, n_estimators=17,\n",
       "       n_jobs=1, nthread=None, objective='reg:linear', random_state=0,\n",
       "       reg_alpha=2.1001384849095248, reg_lambda=1, scale_pos_weight=1,\n",
       "       seed=None, silent=True, subsample=0.94946067493936037)"
      ]
     },
     "execution_count": 10,
     "metadata": {},
     "output_type": "execute_result"
    }
   ],
   "source": [
    "gs.best_estimator_ "
   ]
  },
  {
   "cell_type": "code",
   "execution_count": 9,
   "metadata": {},
   "outputs": [
    {
     "data": {
      "text/plain": [
       "0.16791861244737541"
      ]
     },
     "execution_count": 9,
     "metadata": {},
     "output_type": "execute_result"
    }
   ],
   "source": [
    "gs.best_score_"
   ]
  },
  {
   "cell_type": "code",
   "execution_count": 12,
   "metadata": {
    "collapsed": true
   },
   "outputs": [],
   "source": [
    "y_pred = gs.predict(X_test)\n",
    "\n",
    "pd.DataFrame({\"id\": id_test, \"relevance\": y_pred}).to_csv('submission.csv',index=False)\n",
    "#score=0.483"
   ]
  },
  {
   "cell_type": "code",
   "execution_count": 48,
   "metadata": {},
   "outputs": [
    {
     "data": {
      "text/plain": [
       "GridSearchCV(cv=None, error_score='raise',\n",
       "       estimator=XGBRegressor(base_score=0.5, booster='gbtree', colsample_bylevel=1,\n",
       "       colsample_bytree=1, gamma=0, learning_rate=0.1, max_delta_step=0,\n",
       "       max_depth=3, min_child_weight=1, missing=None, n_estimators=100,\n",
       "       n_jobs=1, nthread=-1, objective='reg:linear', random_state=0,\n",
       "       reg_alpha=0, reg_lambda=1, scale_pos_weight=1, seed=None,\n",
       "       silent=True, subsample=1),\n",
       "       fit_params={}, iid=True, n_jobs=1,\n",
       "       param_grid={'min_child_weight': [4, 5], 'gamma': [0.3, 0.4, 0.5], 'subsample': [0.6, 0.7, 0.8, 0.9, 1.0], 'colsample_bytree': [0.6, 0.7, 0.8, 0.9, 1.0], 'max_depth': [2, 3, 4]},\n",
       "       pre_dispatch='2*n_jobs', refit=True, scoring=None, verbose=0)"
      ]
     },
     "execution_count": 48,
     "metadata": {},
     "output_type": "execute_result"
    }
   ],
   "source": [
    "params = {'min_child_weight':[4,5], 'gamma':[i/10.0 for i in range(3,6)],  'subsample':[i/10.0 for i in range(6,11)],\n",
    "'colsample_bytree':[i/10.0 for i in range(6,11)], 'max_depth': [2,3,4]}\n",
    "xgb = XGBRegressor(nthread=-1) \n",
    "\n",
    "grid = GridSearchCV(xgb, params)\n",
    "grid.fit(X_train, y_train)  "
   ]
  },
  {
   "cell_type": "code",
   "execution_count": 50,
   "metadata": {},
   "outputs": [
    {
     "data": {
      "text/plain": [
       "0.16791861244737541"
      ]
     },
     "execution_count": 50,
     "metadata": {},
     "output_type": "execute_result"
    }
   ],
   "source": [
    "gs.best_score_"
   ]
  },
  {
   "cell_type": "code",
   "execution_count": 54,
   "metadata": {
    "collapsed": true
   },
   "outputs": [],
   "source": [
    "y_pred = gs.predict(X_test)\n",
    "\n",
    "pd.DataFrame({\"id\": id_test, \"relevance\": y_pred}).to_csv('C:/Users/Karthik/Desktop/Coursera/NLP/home depot/submission2.csv',index=False)\n"
   ]
  },
  {
   "cell_type": "code",
   "execution_count": null,
   "metadata": {
    "collapsed": true
   },
   "outputs": [],
   "source": [
    "param_test1 = {\n",
    " 'max_depth':range(3,10,2),\n",
    " 'min_child_weight':range(1,6,2)\n",
    "}\n",
    "gsearch1 = GridSearchCV(estimator = XGBClassifier( learning_rate =0.1, n_estimators=140, max_depth=5,\n",
    " min_child_weight=1, gamma=0, subsample=0.8, colsample_bytree=0.8,\n",
    " objective='reg:linear', nthread=4, scale_pos_weight=1, seed=27), \n",
    " param_grid = param_test1, scoring='roc_auc',n_jobs=4,iid=False, cv=5)\n",
    "gsearch1.fit(X_train,y_train)\n",
    "gsearch1.grid_scores_, gsearch1.best_params_, gsearch1.best_score_ \n"
   ]
  },
  {
   "cell_type": "code",
   "execution_count": 67,
   "metadata": {
    "collapsed": true
   },
   "outputs": [],
   "source": [
    "from sklearn.ensemble import RandomForestRegressor, BaggingRegressor"
   ]
  },
  {
   "cell_type": "code",
   "execution_count": 68,
   "metadata": {
    "collapsed": true
   },
   "outputs": [],
   "source": [
    "rf = RandomForestRegressor(n_estimators=15, max_depth=6, random_state=0)\n",
    "clf = BaggingRegressor(rf, n_estimators=45, max_samples=0.1, random_state=25)\n",
    "clf.fit(X_train, y_train)\n",
    "y_pred = clf.predict(X_test)\n",
    "\n",
    "pd.DataFrame({\"id\": id_test, \"relevance\": y_pred}).to_csv('submissionrf.csv',index=False)\n",
    "#score .485"
   ]
  },
  {
   "cell_type": "code",
   "execution_count": 69,
   "metadata": {},
   "outputs": [
    {
     "name": "stdout",
     "output_type": "stream",
     "text": [
      "Fitting 10 folds for each of 20 candidates, totalling 200 fits\n"
     ]
    },
    {
     "name": "stderr",
     "output_type": "stream",
     "text": [
      "[Parallel(n_jobs=1)]: Done 200 out of 200 | elapsed:  2.9min finished\n"
     ]
    },
    {
     "data": {
      "text/plain": [
       "{'colsample_bytree': 0.86967469608348613,\n",
       " 'gamma': 3.3770041145740191,\n",
       " 'learning_rate': 0.41621512691468016,\n",
       " 'max_depth': 17,\n",
       " 'min_child_weight': 25.360356047575909,\n",
       " 'n_estimators': 29,\n",
       " 'reg_alpha': 9.3489630990652639,\n",
       " 'subsample': 0.82057968501387568}"
      ]
     },
     "execution_count": 69,
     "metadata": {},
     "output_type": "execute_result"
    }
   ],
   "source": [
    "gs_rf = RandomizedSearchCV(xgbreg, params, n_jobs=1,return_train_score=True,n_iter=20,cv=10,verbose=1,random_state=2016) \n",
    "gs_rf.fit(X_train, y_train)  \n",
    "gs_rf.best_estimator_ \n",
    "gs_rf.best_score_\n",
    "gs_rf.best_params_"
   ]
  },
  {
   "cell_type": "code",
   "execution_count": null,
   "metadata": {
    "collapsed": true
   },
   "outputs": [],
   "source": [
    "#import h2o\n",
    "#h2o.init()\n",
    "#from h2o.estimators.glm import H2OGeneralizedLinearEstimator   # import the glm estimator object\n",
    "#train2 = h2o.import_file('train.csv')\n",
    "#test2=h2o.import_file('test.csv')\n",
    "#train2=train2.drop('C1')\n",
    "#test2=test2.drop('C1')\n",
    "#x = train2.columns\n",
    "#y = \"relevance\"\n",
    "#x.remove(y)\n",
    "#from h2o.automl import H2OAutoML\n",
    "#aml = H2OAutoML(max_runtime_secs = 30)\n",
    "#aml.train(x = x, y = y,\n",
    "#          training_frame = train2,\n",
    "#          leaderboard_frame = test2)"
   ]
  }
 ],
 "metadata": {
  "kernelspec": {
   "display_name": "Python 3",
   "language": "python",
   "name": "python3"
  },
  "language_info": {
   "codemirror_mode": {
    "name": "ipython",
    "version": 3
   },
   "file_extension": ".py",
   "mimetype": "text/x-python",
   "name": "python",
   "nbconvert_exporter": "python",
   "pygments_lexer": "ipython3",
   "version": "3.6.3"
  }
 },
 "nbformat": 4,
 "nbformat_minor": 2
}
